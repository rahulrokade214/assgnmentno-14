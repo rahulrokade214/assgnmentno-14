{
 "cells": [
  {
   "cell_type": "markdown",
   "id": "570ffc25-7867-4b46-80cd-f03aa6f23b6e",
   "metadata": {},
   "source": [
    "## Q1. What is Flask Framework? What are the advantages of Flask Framework?\n"
   ]
  },
  {
   "cell_type": "markdown",
   "id": "808a5733-10f3-4a82-aa09-8336e6a9a786",
   "metadata": {},
   "source": [
    "### Pros of Flask\n",
    "### It is a lightweight framework that offers hassle-free development.\n",
    "### Provide flexibility to the developer to experiment with their modules or architecture.\n",
    "### It is suitable for small projects.\n",
    "### Offers a built-in development server and fast debugger.\n",
    "### Easily scalable for the applications.\n",
    "### Support for secure cookies."
   ]
  },
  {
   "cell_type": "markdown",
   "id": "2019a507-5815-4bf8-a3af-5fec79d6f94c",
   "metadata": {},
   "source": [
    "## Q2. Create a simple Flask application to display ‘Hello World!!’. Attach the screenshot of the output in Jupyter Notebook.\n"
   ]
  },
  {
   "cell_type": "markdown",
   "id": "668ad5ba-78b2-4f3c-bc34-0977e38e694f",
   "metadata": {},
   "source": [
    "### REST stands for Representational State Transfer and is an architectural style used in modern web development. It defines a set of rules/constraints for a web application to send and receive data. In this article, we are going to learn how to create a simple REST API that returns ‘Hello World’, with the help of a flask."
   ]
  },
  {
   "cell_type": "markdown",
   "id": "7f3dc8a3-e065-4366-aadd-d6cf670a35ab",
   "metadata": {},
   "source": [
    "## Q3. What is App routing in Flask? Why do we use app routes?\n"
   ]
  },
  {
   "cell_type": "markdown",
   "id": "a7a74cf7-552f-49d6-8fd0-411ecf1afbe6",
   "metadata": {},
   "source": [
    "### App routing is the technique used to map the specific URL with the associated function intended to perform some task. The Latest Web frameworks use the routing technique to help users remember application URLs. It is helpful to access the desired page directly without navigating from the home page"
   ]
  },
  {
   "cell_type": "markdown",
   "id": "2721de19-e323-4c63-ad81-6bd27260510a",
   "metadata": {
    "jp-MarkdownHeadingCollapsed": true,
    "tags": []
   },
   "source": [
    "## Q4. Create a “/welcome” route to display the welcome message “Welcome to ABC Corporation” and a “/”route to show the following details:\n",
    "### Company Name: ABC Corporation\n",
    "### Location: India\n",
    "### Contact Detail: 999-999-9999\n",
    "### Attach the screenshot of the output in Jupyter Notebook.\n"
   ]
  },
  {
   "cell_type": "markdown",
   "id": "3c17371a-a80a-49d0-8ca8-49a29376d8f1",
   "metadata": {},
   "source": [
    "### The Jupyter Notebook is an incredibly powerful tool for interactively developing and presenting data science projects. This article will walk you through how to use Jupyter Notebooks for data science projects and how to set it up on your local machine."
   ]
  },
  {
   "cell_type": "markdown",
   "id": "4872fb1d-5381-4315-820d-185ff3492faa",
   "metadata": {},
   "source": [
    "## Q5. What function is used in Flask for URL Building? Write a Python code to demonstrate the working of the url_for() function."
   ]
  },
  {
   "cell_type": "markdown",
   "id": "20828404-63cb-4068-b0bf-92c3dfd5cd23",
   "metadata": {},
   "source": [
    "## Flask url_for() method\n",
    "### The url_for() method, is used to prepare a URL, for a function dynamically, such that, changing URLs, in the application, is avoided. It accepts, the name of the view function, as the first argument, and, any number of keywords, to be sent(to the view function), as the second argument."
   ]
  }
 ],
 "metadata": {
  "kernelspec": {
   "display_name": "Python 3 (ipykernel)",
   "language": "python",
   "name": "python3"
  },
  "language_info": {
   "codemirror_mode": {
    "name": "ipython",
    "version": 3
   },
   "file_extension": ".py",
   "mimetype": "text/x-python",
   "name": "python",
   "nbconvert_exporter": "python",
   "pygments_lexer": "ipython3",
   "version": "3.10.8"
  }
 },
 "nbformat": 4,
 "nbformat_minor": 5
}
